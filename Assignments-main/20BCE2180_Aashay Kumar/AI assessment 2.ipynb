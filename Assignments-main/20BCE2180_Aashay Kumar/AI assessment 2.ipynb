{
 "cells": [
  {
   "cell_type": "markdown",
   "id": "8a6dc4d1",
   "metadata": {
    "papermill": {
     "duration": 0.010118,
     "end_time": "2023-04-17T02:55:36.713430",
     "exception": false,
     "start_time": "2023-04-17T02:55:36.703312",
     "status": "completed"
    },
    "tags": []
   },
   "source": [
    "# ASSESSMENT 2"
   ]
  },
  {
   "cell_type": "markdown",
   "id": "ebec7338",
   "metadata": {},
   "source": [
    "## **Build an ANN model for Drug classification.**"
   ]
  },
  {
   "cell_type": "markdown",
   "id": "fb84b538",
   "metadata": {
    "papermill": {
     "duration": 0.008645,
     "end_time": "2023-04-17T02:55:36.731332",
     "exception": false,
     "start_time": "2023-04-17T02:55:36.722687",
     "status": "completed"
    },
    "tags": []
   },
   "source": [
    "### This project aims to analyze the relationship between various medical parameters and drug effectiveness. The dataset consists of patient information, including age, sex, blood pressure levels (BP), cholesterol levels, sodium-to-potassium ratio (Na_to_K), drug type, and corresponding labels. The goal is to develop a model that can accurately predict the class or category of a given drug based on its features. "
   ]
  },
  {
   "cell_type": "markdown",
   "id": "16a17988",
   "metadata": {
    "papermill": {
     "duration": 0.008646,
     "end_time": "2023-04-17T02:55:36.748719",
     "exception": false,
     "start_time": "2023-04-17T02:55:36.740073",
     "status": "completed"
    },
    "tags": []
   },
   "source": [
    "####  **Import the libraries**"
   ]
  },
  {
   "cell_type": "code",
   "execution_count": 1,
   "id": "b7c5ab1d",
   "metadata": {
    "_cell_guid": "b1076dfc-b9ad-4769-8c92-a6c4dae69d19",
    "_uuid": "8f2839f25d086af736a60e9eeb907d3b93b6e0e5",
    "execution": {
     "iopub.execute_input": "2023-04-17T02:55:36.770090Z",
     "iopub.status.busy": "2023-04-17T02:55:36.769589Z",
     "iopub.status.idle": "2023-04-17T02:55:51.810837Z",
     "shell.execute_reply": "2023-04-17T02:55:51.809679Z"
    },
    "papermill": {
     "duration": 15.056227,
     "end_time": "2023-04-17T02:55:51.813846",
     "exception": false,
     "start_time": "2023-04-17T02:55:36.757619",
     "status": "completed"
    },
    "tags": []
   },
   "outputs": [],
   "source": [
    "import pandas as pd\n",
    "import tensorflow as tf\n",
    "from tensorflow import keras\n",
    "from tensorflow.keras import Sequential\n",
    "from tensorflow.keras.layers import Flatten,Dense\n",
    "from sklearn.preprocessing import LabelEncoder, StandardScaler\n",
    "from sklearn.model_selection import train_test_split\n",
    "import numpy as np\n",
    "import seaborn as sb\n",
    "import matplotlib.pyplot as mp"
   ]
  },
  {
   "cell_type": "markdown",
   "id": "19349005",
   "metadata": {
    "papermill": {
     "duration": 0.008678,
     "end_time": "2023-04-17T02:55:51.831217",
     "exception": false,
     "start_time": "2023-04-17T02:55:51.822539",
     "status": "completed"
    },
    "tags": []
   },
   "source": [
    "#### **Load the dataset**"
   ]
  },
  {
   "cell_type": "code",
   "execution_count": 2,
   "id": "91017d42",
   "metadata": {
    "execution": {
     "iopub.execute_input": "2023-04-17T02:55:51.849964Z",
     "iopub.status.busy": "2023-04-17T02:55:51.849331Z",
     "iopub.status.idle": "2023-04-17T02:55:51.881049Z",
     "shell.execute_reply": "2023-04-17T02:55:51.880017Z"
    },
    "papermill": {
     "duration": 0.043408,
     "end_time": "2023-04-17T02:55:51.883272",
     "exception": false,
     "start_time": "2023-04-17T02:55:51.839864",
     "status": "completed"
    },
    "tags": []
   },
   "outputs": [],
   "source": [
    "dataset = pd.read_csv('drug.csv')"
   ]
  },
  {
   "cell_type": "markdown",
   "id": "a9edfdb2",
   "metadata": {
    "papermill": {
     "duration": 0.007915,
     "end_time": "2023-04-17T02:55:51.899503",
     "exception": false,
     "start_time": "2023-04-17T02:55:51.891588",
     "status": "completed"
    },
    "tags": []
   },
   "source": [
    "#### **Glimpse of the dataset**"
   ]
  },
  {
   "cell_type": "code",
   "execution_count": 3,
   "id": "ffff3f08",
   "metadata": {
    "execution": {
     "iopub.execute_input": "2023-04-17T02:55:51.917369Z",
     "iopub.status.busy": "2023-04-17T02:55:51.916459Z",
     "iopub.status.idle": "2023-04-17T02:55:51.938674Z",
     "shell.execute_reply": "2023-04-17T02:55:51.937472Z"
    },
    "papermill": {
     "duration": 0.033609,
     "end_time": "2023-04-17T02:55:51.941155",
     "exception": false,
     "start_time": "2023-04-17T02:55:51.907546",
     "status": "completed"
    },
    "tags": []
   },
   "outputs": [
    {
     "data": {
      "text/html": [
       "<div>\n",
       "<style scoped>\n",
       "    .dataframe tbody tr th:only-of-type {\n",
       "        vertical-align: middle;\n",
       "    }\n",
       "\n",
       "    .dataframe tbody tr th {\n",
       "        vertical-align: top;\n",
       "    }\n",
       "\n",
       "    .dataframe thead th {\n",
       "        text-align: right;\n",
       "    }\n",
       "</style>\n",
       "<table border=\"1\" class=\"dataframe\">\n",
       "  <thead>\n",
       "    <tr style=\"text-align: right;\">\n",
       "      <th></th>\n",
       "      <th>Age</th>\n",
       "      <th>Sex</th>\n",
       "      <th>BP</th>\n",
       "      <th>Cholesterol</th>\n",
       "      <th>Na_to_K</th>\n",
       "      <th>Drug</th>\n",
       "    </tr>\n",
       "  </thead>\n",
       "  <tbody>\n",
       "    <tr>\n",
       "      <th>0</th>\n",
       "      <td>23</td>\n",
       "      <td>F</td>\n",
       "      <td>HIGH</td>\n",
       "      <td>HIGH</td>\n",
       "      <td>25.355</td>\n",
       "      <td>DrugY</td>\n",
       "    </tr>\n",
       "    <tr>\n",
       "      <th>1</th>\n",
       "      <td>47</td>\n",
       "      <td>M</td>\n",
       "      <td>LOW</td>\n",
       "      <td>HIGH</td>\n",
       "      <td>13.093</td>\n",
       "      <td>drugC</td>\n",
       "    </tr>\n",
       "    <tr>\n",
       "      <th>2</th>\n",
       "      <td>47</td>\n",
       "      <td>M</td>\n",
       "      <td>LOW</td>\n",
       "      <td>HIGH</td>\n",
       "      <td>10.114</td>\n",
       "      <td>drugC</td>\n",
       "    </tr>\n",
       "    <tr>\n",
       "      <th>3</th>\n",
       "      <td>28</td>\n",
       "      <td>F</td>\n",
       "      <td>NORMAL</td>\n",
       "      <td>HIGH</td>\n",
       "      <td>7.798</td>\n",
       "      <td>drugX</td>\n",
       "    </tr>\n",
       "    <tr>\n",
       "      <th>4</th>\n",
       "      <td>61</td>\n",
       "      <td>F</td>\n",
       "      <td>LOW</td>\n",
       "      <td>HIGH</td>\n",
       "      <td>18.043</td>\n",
       "      <td>DrugY</td>\n",
       "    </tr>\n",
       "  </tbody>\n",
       "</table>\n",
       "</div>"
      ],
      "text/plain": [
       "   Age Sex      BP Cholesterol  Na_to_K   Drug\n",
       "0   23   F    HIGH        HIGH   25.355  DrugY\n",
       "1   47   M     LOW        HIGH   13.093  drugC\n",
       "2   47   M     LOW        HIGH   10.114  drugC\n",
       "3   28   F  NORMAL        HIGH    7.798  drugX\n",
       "4   61   F     LOW        HIGH   18.043  DrugY"
      ]
     },
     "execution_count": 3,
     "metadata": {},
     "output_type": "execute_result"
    }
   ],
   "source": [
    "dataset.head()"
   ]
  },
  {
   "cell_type": "markdown",
   "id": "eb5bc246",
   "metadata": {
    "papermill": {
     "duration": 0.009083,
     "end_time": "2023-04-17T02:55:51.959562",
     "exception": false,
     "start_time": "2023-04-17T02:55:51.950479",
     "status": "completed"
    },
    "tags": []
   },
   "source": [
    "# Data Preprocessing"
   ]
  },
  {
   "cell_type": "markdown",
   "id": "915c347a",
   "metadata": {
    "papermill": {
     "duration": 0.008631,
     "end_time": "2023-04-17T02:55:51.976732",
     "exception": false,
     "start_time": "2023-04-17T02:55:51.968101",
     "status": "completed"
    },
    "tags": []
   },
   "source": [
    "#### **Check for total no. of rows and column**"
   ]
  },
  {
   "cell_type": "code",
   "execution_count": 4,
   "id": "db141a29",
   "metadata": {
    "execution": {
     "iopub.execute_input": "2023-04-17T02:55:51.995517Z",
     "iopub.status.busy": "2023-04-17T02:55:51.995221Z",
     "iopub.status.idle": "2023-04-17T02:55:52.001542Z",
     "shell.execute_reply": "2023-04-17T02:55:52.000491Z"
    },
    "papermill": {
     "duration": 0.018231,
     "end_time": "2023-04-17T02:55:52.003736",
     "exception": false,
     "start_time": "2023-04-17T02:55:51.985505",
     "status": "completed"
    },
    "tags": []
   },
   "outputs": [
    {
     "data": {
      "text/plain": [
       "(200, 6)"
      ]
     },
     "execution_count": 4,
     "metadata": {},
     "output_type": "execute_result"
    }
   ],
   "source": [
    "dataset.shape"
   ]
  },
  {
   "cell_type": "markdown",
   "id": "0d432ada",
   "metadata": {
    "papermill": {
     "duration": 0.008462,
     "end_time": "2023-04-17T02:55:52.020755",
     "exception": false,
     "start_time": "2023-04-17T02:55:52.012293",
     "status": "completed"
    },
    "tags": []
   },
   "source": [
    "Total number of rows are 200 \n",
    "Total number of columns are 6"
   ]
  },
  {
   "cell_type": "markdown",
   "id": "6f5680fc",
   "metadata": {
    "papermill": {
     "duration": 0.008479,
     "end_time": "2023-04-17T02:55:52.037940",
     "exception": false,
     "start_time": "2023-04-17T02:55:52.029461",
     "status": "completed"
    },
    "tags": []
   },
   "source": [
    "#### **Check for missing values**"
   ]
  },
  {
   "cell_type": "code",
   "execution_count": 5,
   "id": "b2f4e25e",
   "metadata": {
    "execution": {
     "iopub.execute_input": "2023-04-17T02:55:52.056652Z",
     "iopub.status.busy": "2023-04-17T02:55:52.056119Z",
     "iopub.status.idle": "2023-04-17T02:55:52.065620Z",
     "shell.execute_reply": "2023-04-17T02:55:52.064393Z"
    },
    "papermill": {
     "duration": 0.02114,
     "end_time": "2023-04-17T02:55:52.067931",
     "exception": false,
     "start_time": "2023-04-17T02:55:52.046791",
     "status": "completed"
    },
    "tags": []
   },
   "outputs": [
    {
     "data": {
      "text/plain": [
       "Age            0\n",
       "Sex            0\n",
       "BP             0\n",
       "Cholesterol    0\n",
       "Na_to_K        0\n",
       "Drug           0\n",
       "dtype: int64"
      ]
     },
     "execution_count": 5,
     "metadata": {},
     "output_type": "execute_result"
    }
   ],
   "source": [
    "dataset.isnull().sum()"
   ]
  },
  {
   "cell_type": "markdown",
   "id": "4db0bf16",
   "metadata": {
    "papermill": {
     "duration": 0.008164,
     "end_time": "2023-04-17T02:55:52.086750",
     "exception": false,
     "start_time": "2023-04-17T02:55:52.078586",
     "status": "completed"
    },
    "tags": []
   },
   "source": [
    "#### **Check for dataset information** "
   ]
  },
  {
   "cell_type": "code",
   "execution_count": 6,
   "id": "f26941e1",
   "metadata": {
    "execution": {
     "iopub.execute_input": "2023-04-17T02:55:52.104848Z",
     "iopub.status.busy": "2023-04-17T02:55:52.104591Z",
     "iopub.status.idle": "2023-04-17T02:55:52.117334Z",
     "shell.execute_reply": "2023-04-17T02:55:52.116143Z"
    },
    "papermill": {
     "duration": 0.024355,
     "end_time": "2023-04-17T02:55:52.119580",
     "exception": false,
     "start_time": "2023-04-17T02:55:52.095225",
     "status": "completed"
    },
    "tags": []
   },
   "outputs": [
    {
     "data": {
      "text/plain": [
       "<bound method DataFrame.info of      Age Sex      BP Cholesterol  Na_to_K   Drug\n",
       "0     23   F    HIGH        HIGH   25.355  DrugY\n",
       "1     47   M     LOW        HIGH   13.093  drugC\n",
       "2     47   M     LOW        HIGH   10.114  drugC\n",
       "3     28   F  NORMAL        HIGH    7.798  drugX\n",
       "4     61   F     LOW        HIGH   18.043  DrugY\n",
       "..   ...  ..     ...         ...      ...    ...\n",
       "195   56   F     LOW        HIGH   11.567  drugC\n",
       "196   16   M     LOW        HIGH   12.006  drugC\n",
       "197   52   M  NORMAL        HIGH    9.894  drugX\n",
       "198   23   M  NORMAL      NORMAL   14.020  drugX\n",
       "199   40   F     LOW      NORMAL   11.349  drugX\n",
       "\n",
       "[200 rows x 6 columns]>"
      ]
     },
     "execution_count": 6,
     "metadata": {},
     "output_type": "execute_result"
    }
   ],
   "source": [
    "dataset.info"
   ]
  },
  {
   "cell_type": "markdown",
   "id": "2435af89",
   "metadata": {
    "papermill": {
     "duration": 0.008737,
     "end_time": "2023-04-17T02:55:52.137231",
     "exception": false,
     "start_time": "2023-04-17T02:55:52.128494",
     "status": "completed"
    },
    "tags": []
   },
   "source": [
    "#### **Check for statistical info**"
   ]
  },
  {
   "cell_type": "code",
   "execution_count": 7,
   "id": "770681c8",
   "metadata": {
    "execution": {
     "iopub.execute_input": "2023-04-17T02:55:52.156060Z",
     "iopub.status.busy": "2023-04-17T02:55:52.155229Z",
     "iopub.status.idle": "2023-04-17T02:55:52.166037Z",
     "shell.execute_reply": "2023-04-17T02:55:52.164886Z"
    },
    "papermill": {
     "duration": 0.02251,
     "end_time": "2023-04-17T02:55:52.168404",
     "exception": false,
     "start_time": "2023-04-17T02:55:52.145894",
     "status": "completed"
    },
    "tags": []
   },
   "outputs": [
    {
     "data": {
      "text/plain": [
       "<bound method NDFrame.describe of      Age Sex      BP Cholesterol  Na_to_K   Drug\n",
       "0     23   F    HIGH        HIGH   25.355  DrugY\n",
       "1     47   M     LOW        HIGH   13.093  drugC\n",
       "2     47   M     LOW        HIGH   10.114  drugC\n",
       "3     28   F  NORMAL        HIGH    7.798  drugX\n",
       "4     61   F     LOW        HIGH   18.043  DrugY\n",
       "..   ...  ..     ...         ...      ...    ...\n",
       "195   56   F     LOW        HIGH   11.567  drugC\n",
       "196   16   M     LOW        HIGH   12.006  drugC\n",
       "197   52   M  NORMAL        HIGH    9.894  drugX\n",
       "198   23   M  NORMAL      NORMAL   14.020  drugX\n",
       "199   40   F     LOW      NORMAL   11.349  drugX\n",
       "\n",
       "[200 rows x 6 columns]>"
      ]
     },
     "execution_count": 7,
     "metadata": {},
     "output_type": "execute_result"
    }
   ],
   "source": [
    "dataset.describe"
   ]
  },
  {
   "cell_type": "markdown",
   "id": "d7f67752",
   "metadata": {
    "papermill": {
     "duration": 0.008423,
     "end_time": "2023-04-17T02:55:52.185856",
     "exception": false,
     "start_time": "2023-04-17T02:55:52.177433",
     "status": "completed"
    },
    "tags": []
   },
   "source": [
    "#### **Let's Visualize in the Graph forms**"
   ]
  },
  {
   "cell_type": "code",
   "execution_count": 8,
   "id": "54bc60f3",
   "metadata": {
    "execution": {
     "iopub.execute_input": "2023-04-17T02:55:52.204780Z",
     "iopub.status.busy": "2023-04-17T02:55:52.203980Z",
     "iopub.status.idle": "2023-04-17T02:55:52.560820Z",
     "shell.execute_reply": "2023-04-17T02:55:52.559898Z"
    },
    "papermill": {
     "duration": 0.368351,
     "end_time": "2023-04-17T02:55:52.563030",
     "exception": false,
     "start_time": "2023-04-17T02:55:52.194679",
     "status": "completed"
    },
    "tags": []
   },
   "outputs": [
    {
     "data": {
      "text/plain": [
       "<AxesSubplot: xlabel='Drug', ylabel='count'>"
      ]
     },
     "execution_count": 8,
     "metadata": {},
     "output_type": "execute_result"
    },
    {
     "data": {
      "image/png": "[encoded data removed]",
      "text/plain": [
       "<Figure size 640x480 with 1 Axes>"
      ]
     },
     "metadata": {},
     "output_type": "display_data"
    }
   ],
   "source": [
    "sb.countplot(x='Drug',data=dataset,hue='Drug')"
   ]
  },
  {
   "cell_type": "markdown",
   "id": "abda4b84",
   "metadata": {
    "papermill": {
     "duration": 0.00919,
     "end_time": "2023-04-17T02:55:52.581516",
     "exception": false,
     "start_time": "2023-04-17T02:55:52.572326",
     "status": "completed"
    },
    "tags": []
   },
   "source": [
    "Consumption of Drug Y is more and Drug B is less compare to all "
   ]
  },
  {
   "cell_type": "code",
   "execution_count": 9,
   "id": "46cf7c1b",
   "metadata": {
    "execution": {
     "iopub.execute_input": "2023-04-17T02:55:52.602407Z",
     "iopub.status.busy": "2023-04-17T02:55:52.601383Z",
     "iopub.status.idle": "2023-04-17T02:55:52.993977Z",
     "shell.execute_reply": "2023-04-17T02:55:52.992979Z"
    },
    "papermill": {
     "duration": 0.405899,
     "end_time": "2023-04-17T02:55:52.996624",
     "exception": false,
     "start_time": "2023-04-17T02:55:52.590725",
     "status": "completed"
    },
    "tags": []
   },
   "outputs": [
    {
     "data": {
      "text/plain": [
       "<AxesSubplot: xlabel='Sex', ylabel='count'>"
      ]
     },
     "execution_count": 9,
     "metadata": {},
     "output_type": "execute_result"
    },
    {
     "data": {
      "image/png": "[encoded data removed]",
      "text/plain": [
       "<Figure size 640x480 with 1 Axes>"
      ]
     },
     "metadata": {},
     "output_type": "display_data"
    }
   ],
   "source": [
    "sb.countplot(x='Sex',data=dataset,palette='crest',hue='Sex')"
   ]
  },
  {
   "cell_type": "markdown",
   "id": "34efe4fb",
   "metadata": {
    "papermill": {
     "duration": 0.009203,
     "end_time": "2023-04-17T02:55:53.015832",
     "exception": false,
     "start_time": "2023-04-17T02:55:53.006629",
     "status": "completed"
    },
    "tags": []
   },
   "source": [
    "Male Drug's consumption is more compare to Female "
   ]
  },
  {
   "cell_type": "code",
   "execution_count": 10,
   "id": "ef8d18ed",
   "metadata": {
    "execution": {
     "iopub.execute_input": "2023-04-17T02:55:53.334002Z",
     "iopub.status.busy": "2023-04-17T02:55:53.333688Z",
     "iopub.status.idle": "2023-04-17T02:55:53.588378Z",
     "shell.execute_reply": "2023-04-17T02:55:53.587153Z"
    },
    "papermill": {
     "duration": 0.267701,
     "end_time": "2023-04-17T02:55:53.590786",
     "exception": false,
     "start_time": "2023-04-17T02:55:53.323085",
     "status": "completed"
    },
    "scrolled": true,
    "tags": []
   },
   "outputs": [
    {
     "data": {
      "text/plain": [
       "<AxesSubplot: xlabel='Na_to_K', ylabel='Count'>"
      ]
     },
     "execution_count": 10,
     "metadata": {},
     "output_type": "execute_result"
    },
    {
     "data": {
      "image/png": "[encoded data removed]",
      "text/plain": [
       "<Figure size 640x480 with 1 Axes>"
      ]
     },
     "metadata": {},
     "output_type": "display_data"
    }
   ],
   "source": [
    "sb.histplot(x='Na_to_K',data=dataset)"
   ]
  },
  {
   "cell_type": "markdown",
   "id": "a0469725",
   "metadata": {
    "papermill": {
     "duration": 0.011107,
     "end_time": "2023-04-17T02:55:53.613707",
     "exception": false,
     "start_time": "2023-04-17T02:55:53.602600",
     "status": "completed"
    },
    "tags": []
   },
   "source": [
    "#### **Segregate the data into train & test**"
   ]
  },
  {
   "cell_type": "code",
   "execution_count": 11,
   "id": "53e36a01",
   "metadata": {
    "execution": {
     "iopub.execute_input": "2023-04-17T02:55:53.637879Z",
     "iopub.status.busy": "2023-04-17T02:55:53.636841Z",
     "iopub.status.idle": "2023-04-17T02:55:53.642964Z",
     "shell.execute_reply": "2023-04-17T02:55:53.642069Z"
    },
    "papermill": {
     "duration": 0.020298,
     "end_time": "2023-04-17T02:55:53.645274",
     "exception": false,
     "start_time": "2023-04-17T02:55:53.624976",
     "status": "completed"
    },
    "tags": []
   },
   "outputs": [],
   "source": [
    "X = dataset.drop(columns = ['Drug'],axis=1)\n",
    "Y = dataset['Drug']"
   ]
  },
  {
   "cell_type": "markdown",
   "id": "daf5358c",
   "metadata": {
    "papermill": {
     "duration": 0.009678,
     "end_time": "2023-04-17T02:55:53.664832",
     "exception": false,
     "start_time": "2023-04-17T02:55:53.655154",
     "status": "completed"
    },
    "tags": []
   },
   "source": [
    "Drug column is the output(target) column in this dataset."
   ]
  },
  {
   "cell_type": "code",
   "execution_count": 12,
   "id": "728a113b",
   "metadata": {
    "execution": {
     "iopub.execute_input": "2023-04-17T02:55:53.686625Z",
     "iopub.status.busy": "2023-04-17T02:55:53.685803Z",
     "iopub.status.idle": "2023-04-17T02:55:53.692682Z",
     "shell.execute_reply": "2023-04-17T02:55:53.691246Z"
    },
    "papermill": {
     "duration": 0.020384,
     "end_time": "2023-04-17T02:55:53.695022",
     "exception": false,
     "start_time": "2023-04-17T02:55:53.674638",
     "status": "completed"
    },
    "tags": []
   },
   "outputs": [
    {
     "name": "stdout",
     "output_type": "stream",
     "text": [
      "5\n"
     ]
    }
   ],
   "source": [
    "Y_class = len(np.unique(Y))\n",
    "print(Y_class)"
   ]
  },
  {
   "cell_type": "markdown",
   "id": "3db11569",
   "metadata": {
    "papermill": {
     "duration": 0.009769,
     "end_time": "2023-04-17T02:55:53.714799",
     "exception": false,
     "start_time": "2023-04-17T02:55:53.705030",
     "status": "completed"
    },
    "tags": []
   },
   "source": [
    "The above code snippet will fetch the count of unique class value of the target column."
   ]
  },
  {
   "cell_type": "markdown",
   "id": "55c0c625",
   "metadata": {
    "papermill": {
     "duration": 0.009747,
     "end_time": "2023-04-17T02:55:53.734886",
     "exception": false,
     "start_time": "2023-04-17T02:55:53.725139",
     "status": "completed"
    },
    "tags": []
   },
   "source": [
    "#### **Convert the Categorical data into interger data**"
   ]
  },
  {
   "cell_type": "code",
   "execution_count": 13,
   "id": "e7fa5989",
   "metadata": {
    "execution": {
     "iopub.execute_input": "2023-04-17T02:55:53.756158Z",
     "iopub.status.busy": "2023-04-17T02:55:53.755852Z",
     "iopub.status.idle": "2023-04-17T02:55:53.767693Z",
     "shell.execute_reply": "2023-04-17T02:55:53.766509Z"
    },
    "papermill": {
     "duration": 0.025199,
     "end_time": "2023-04-17T02:55:53.769995",
     "exception": false,
     "start_time": "2023-04-17T02:55:53.744796",
     "status": "completed"
    },
    "tags": []
   },
   "outputs": [],
   "source": [
    "X = pd.get_dummies(X,columns=['Sex','BP','Cholesterol'],drop_first = True)\n",
    "\n",
    "LE = LabelEncoder()\n",
    "Y = LE.fit_transform(Y)"
   ]
  },
  {
   "cell_type": "markdown",
   "id": "3ba36087",
   "metadata": {
    "papermill": {
     "duration": 0.010667,
     "end_time": "2023-04-17T02:55:53.790946",
     "exception": false,
     "start_time": "2023-04-17T02:55:53.780279",
     "status": "completed"
    },
    "tags": []
   },
   "source": [
    "**get_dummies** is a pandas function which will convert the one-hot encoding categorical value into numeric value\n",
    "\n",
    "**Labelencoder** will assign a numeric value to a category value."
   ]
  },
  {
   "cell_type": "code",
   "execution_count": 14,
   "id": "2b4a7871",
   "metadata": {
    "execution": {
     "iopub.execute_input": "2023-04-17T02:55:53.813097Z",
     "iopub.status.busy": "2023-04-17T02:55:53.812527Z",
     "iopub.status.idle": "2023-04-17T02:55:53.821011Z",
     "shell.execute_reply": "2023-04-17T02:55:53.819915Z"
    },
    "papermill": {
     "duration": 0.021883,
     "end_time": "2023-04-17T02:55:53.823288",
     "exception": false,
     "start_time": "2023-04-17T02:55:53.801405",
     "status": "completed"
    },
    "tags": []
   },
   "outputs": [],
   "source": [
    "X_train, X_test, Y_train, Y_test = train_test_split (X,Y,test_size=0.3,random_state=2)"
   ]
  },
  {
   "cell_type": "markdown",
   "id": "507733a6",
   "metadata": {
    "papermill": {
     "duration": 0.009834,
     "end_time": "2023-04-17T02:55:53.843364",
     "exception": false,
     "start_time": "2023-04-17T02:55:53.833530",
     "status": "completed"
    },
    "tags": []
   },
   "source": [
    "In the above code snippet, I have divide the dataset into train and test"
   ]
  },
  {
   "cell_type": "markdown",
   "id": "f3d0b4a7",
   "metadata": {
    "papermill": {
     "duration": 0.009864,
     "end_time": "2023-04-17T02:55:53.863461",
     "exception": false,
     "start_time": "2023-04-17T02:55:53.853597",
     "status": "completed"
    },
    "tags": []
   },
   "source": [
    "#### **Feature Scaling**"
   ]
  },
  {
   "cell_type": "code",
   "execution_count": 15,
   "id": "6b87a438",
   "metadata": {
    "execution": {
     "iopub.execute_input": "2023-04-17T02:55:53.886217Z",
     "iopub.status.busy": "2023-04-17T02:55:53.884721Z",
     "iopub.status.idle": "2023-04-17T02:55:53.897093Z",
     "shell.execute_reply": "2023-04-17T02:55:53.896078Z"
    },
    "papermill": {
     "duration": 0.026093,
     "end_time": "2023-04-17T02:55:53.899491",
     "exception": false,
     "start_time": "2023-04-17T02:55:53.873398",
     "status": "completed"
    },
    "tags": []
   },
   "outputs": [],
   "source": [
    "from sklearn.preprocessing import StandardScaler\n",
    "sc = StandardScaler()\n",
    "X_train = sc.fit_transform(X_train)\n",
    "X_test = sc.fit_transform(X_test)"
   ]
  },
  {
   "cell_type": "markdown",
   "id": "558988f8",
   "metadata": {
    "papermill": {
     "duration": 0.010329,
     "end_time": "2023-04-17T02:55:53.919716",
     "exception": false,
     "start_time": "2023-04-17T02:55:53.909387",
     "status": "completed"
    },
    "tags": []
   },
   "source": [
    "**StandardScaler** is used for scaling the numeric values"
   ]
  },
  {
   "cell_type": "code",
   "execution_count": 16,
   "id": "006451cd",
   "metadata": {
    "execution": {
     "iopub.execute_input": "2023-04-17T02:55:53.941303Z",
     "iopub.status.busy": "2023-04-17T02:55:53.940482Z",
     "iopub.status.idle": "2023-04-17T02:55:53.945488Z",
     "shell.execute_reply": "2023-04-17T02:55:53.944544Z"
    },
    "papermill": {
     "duration": 0.0178,
     "end_time": "2023-04-17T02:55:53.947534",
     "exception": false,
     "start_time": "2023-04-17T02:55:53.929734",
     "status": "completed"
    },
    "tags": []
   },
   "outputs": [],
   "source": [
    "Y_train = keras.utils.to_categorical(Y_train)\n",
    "Y_test = keras.utils.to_categorical(Y_test)"
   ]
  },
  {
   "cell_type": "markdown",
   "id": "aaf8eb67",
   "metadata": {
    "papermill": {
     "duration": 0.009652,
     "end_time": "2023-04-17T02:55:53.967398",
     "exception": false,
     "start_time": "2023-04-17T02:55:53.957746",
     "status": "completed"
    },
    "tags": []
   },
   "source": [
    "the to_categorical() function from the Keras library to convert the target variable arrays Y_train and Y_test into one-hot encoded arrays."
   ]
  },
  {
   "cell_type": "markdown",
   "id": "0cc4a80e",
   "metadata": {
    "papermill": {
     "duration": 0.010056,
     "end_time": "2023-04-17T02:55:53.987754",
     "exception": false,
     "start_time": "2023-04-17T02:55:53.977698",
     "status": "completed"
    },
    "tags": []
   },
   "source": [
    "#### **create a ANN model**"
   ]
  },
  {
   "cell_type": "code",
   "execution_count": 17,
   "id": "805b9762",
   "metadata": {
    "execution": {
     "iopub.execute_input": "2023-04-17T02:55:54.011245Z",
     "iopub.status.busy": "2023-04-17T02:55:54.009736Z",
     "iopub.status.idle": "2023-04-17T02:55:59.497296Z",
     "shell.execute_reply": "2023-04-17T02:55:59.496294Z"
    },
    "papermill": {
     "duration": 5.502277,
     "end_time": "2023-04-17T02:55:59.500142",
     "exception": false,
     "start_time": "2023-04-17T02:55:53.997865",
     "status": "completed"
    },
    "tags": []
   },
   "outputs": [],
   "source": [
    "model = Sequential()\n",
    "model.add(Dense(48, input_dim=6, activation='relu'))\n",
    "model.add(Dense(36, activation='relu'))\n",
    "model.add(Dense(24, activation='relu'))\n",
    "model.add(Dense(12, activation='relu'))\n",
    "output_layer = Dense(Y_class,activation='softmax')\n",
    "model.add(output_layer)"
   ]
  },
  {
   "cell_type": "code",
   "execution_count": 19,
   "id": "024823ce",
   "metadata": {
    "execution": {
     "iopub.execute_input": "2023-04-17T02:55:59.522734Z",
     "iopub.status.busy": "2023-04-17T02:55:59.522431Z",
     "iopub.status.idle": "2023-04-17T02:55:59.543519Z",
     "shell.execute_reply": "2023-04-17T02:55:59.542679Z"
    },
    "papermill": {
     "duration": 0.047135,
     "end_time": "2023-04-17T02:55:59.558146",
     "exception": false,
     "start_time": "2023-04-17T02:55:59.511011",
     "status": "completed"
    },
    "tags": []
   },
   "outputs": [
    {
     "name": "stdout",
     "output_type": "stream",
     "text": [
      "Model: \"sequential\"\n",
      "_________________________________________________________________\n",
      " Layer (type)                Output Shape              Param #   \n",
      "=================================================================\n",
      " dense (Dense)               (None, 48)                336       \n",
      "                                                                 \n",
      " dense_1 (Dense)             (None, 36)                1764      \n",
      "                                                                 \n",
      " dense_2 (Dense)             (None, 24)                888       \n",
      "                                                                 \n",
      " dense_3 (Dense)             (None, 12)                300       \n",
      "                                                                 \n",
      " dense_4 (Dense)             (None, 5)                 65        \n",
      "                                                                 \n",
      "=================================================================\n",
      "Total params: 3,353\n",
      "Trainable params: 3,353\n",
      "Non-trainable params: 0\n",
      "_________________________________________________________________\n"
     ]
    }
   ],
   "source": [
    "model.summary()"
   ]
  },
  {
   "cell_type": "markdown",
   "id": "b5546664",
   "metadata": {
    "papermill": {
     "duration": 0.010956,
     "end_time": "2023-04-17T02:55:59.580366",
     "exception": false,
     "start_time": "2023-04-17T02:55:59.569410",
     "status": "completed"
    },
    "tags": []
   },
   "source": [
    "#### **compile the model**"
   ]
  },
  {
   "cell_type": "code",
   "execution_count": 18,
   "id": "47064e91",
   "metadata": {
    "execution": {
     "iopub.execute_input": "2023-04-17T02:55:59.604888Z",
     "iopub.status.busy": "2023-04-17T02:55:59.604570Z",
     "iopub.status.idle": "2023-04-17T02:55:59.620972Z",
     "shell.execute_reply": "2023-04-17T02:55:59.620029Z"
    },
    "papermill": {
     "duration": 0.031061,
     "end_time": "2023-04-17T02:55:59.623207",
     "exception": false,
     "start_time": "2023-04-17T02:55:59.592146",
     "status": "completed"
    },
    "tags": []
   },
   "outputs": [],
   "source": [
    "model.compile(loss='categorical_crossentropy', optimizer='adam', metrics=['accuracy'])"
   ]
  },
  {
   "cell_type": "markdown",
   "id": "bf64bdd0",
   "metadata": {
    "papermill": {
     "duration": 0.011153,
     "end_time": "2023-04-17T02:55:59.646131",
     "exception": false,
     "start_time": "2023-04-17T02:55:59.634978",
     "status": "completed"
    },
    "tags": []
   },
   "source": [
    "#### **train the model**"
   ]
  },
  {
   "cell_type": "code",
   "execution_count": 19,
   "id": "f4f12bd7",
   "metadata": {
    "execution": {
     "iopub.execute_input": "2023-04-17T02:55:59.670062Z",
     "iopub.status.busy": "2023-04-17T02:55:59.669067Z",
     "iopub.status.idle": "2023-04-17T02:56:11.250340Z",
     "shell.execute_reply": "2023-04-17T02:56:11.249118Z"
    },
    "papermill": {
     "duration": 11.595384,
     "end_time": "2023-04-17T02:56:11.252295",
     "exception": false,
     "start_time": "2023-04-17T02:55:59.656911",
     "status": "completed"
    },
    "tags": []
   },
   "outputs": [
    {
     "name": "stdout",
     "output_type": "stream",
     "text": [
      "Epoch 1/48\n",
      "24/24 [==============================] - 1s 2ms/step - loss: 1.5547 - accuracy: 0.2929\n",
      "Epoch 2/48\n",
      "24/24 [==============================] - 0s 2ms/step - loss: 1.3912 - accuracy: 0.4214\n",
      "Epoch 3/48\n",
      "24/24 [==============================] - 0s 1ms/step - loss: 1.2214 - accuracy: 0.6429\n",
      "Epoch 4/48\n",
      "24/24 [==============================] - 0s 1ms/step - loss: 1.0234 - accuracy: 0.6643\n",
      "Epoch 5/48\n",
      "24/24 [==============================] - 0s 1ms/step - loss: 0.8249 - accuracy: 0.6714\n",
      "Epoch 6/48\n",
      "24/24 [==============================] - 0s 1ms/step - loss: 0.6538 - accuracy: 0.7500\n",
      "Epoch 7/48\n",
      "24/24 [==============================] - 0s 1ms/step - loss: 0.5144 - accuracy: 0.8071\n",
      "Epoch 8/48\n",
      "24/24 [==============================] - 0s 1ms/step - loss: 0.3943 - accuracy: 0.9286\n",
      "Epoch 9/48\n",
      "24/24 [==============================] - 0s 1ms/step - loss: 0.3025 - accuracy: 0.9786\n",
      "Epoch 10/48\n",
      "24/24 [==============================] - 0s 1ms/step - loss: 0.2323 - accuracy: 0.9786\n",
      "Epoch 11/48\n",
      "24/24 [==============================] - 0s 1ms/step - loss: 0.1760 - accuracy: 0.9857\n",
      "Epoch 12/48\n",
      "24/24 [==============================] - 0s 1ms/step - loss: 0.1455 - accuracy: 0.9786\n",
      "Epoch 13/48\n",
      "24/24 [==============================] - 0s 1ms/step - loss: 0.1178 - accuracy: 0.9929\n",
      "Epoch 14/48\n",
      "24/24 [==============================] - 0s 1ms/step - loss: 0.0933 - accuracy: 0.9857\n",
      "Epoch 15/48\n",
      "24/24 [==============================] - 0s 1ms/step - loss: 0.0745 - accuracy: 0.9929\n",
      "Epoch 16/48\n",
      "24/24 [==============================] - 0s 1ms/step - loss: 0.0651 - accuracy: 0.9929\n",
      "Epoch 17/48\n",
      "24/24 [==============================] - 0s 1ms/step - loss: 0.0555 - accuracy: 0.9929\n",
      "Epoch 18/48\n",
      "24/24 [==============================] - 0s 1ms/step - loss: 0.0474 - accuracy: 1.0000\n",
      "Epoch 19/48\n",
      "24/24 [==============================] - 0s 1ms/step - loss: 0.0413 - accuracy: 0.9929\n",
      "Epoch 20/48\n",
      "24/24 [==============================] - 0s 1ms/step - loss: 0.0356 - accuracy: 1.0000\n",
      "Epoch 21/48\n",
      "24/24 [==============================] - 0s 1ms/step - loss: 0.0355 - accuracy: 1.0000\n",
      "Epoch 22/48\n",
      "24/24 [==============================] - 0s 1ms/step - loss: 0.0301 - accuracy: 1.0000\n",
      "Epoch 23/48\n",
      "24/24 [==============================] - 0s 1ms/step - loss: 0.0273 - accuracy: 1.0000\n",
      "Epoch 24/48\n",
      "24/24 [==============================] - 0s 1ms/step - loss: 0.0244 - accuracy: 1.0000\n",
      "Epoch 25/48\n",
      "24/24 [==============================] - 0s 1ms/step - loss: 0.0222 - accuracy: 1.0000\n",
      "Epoch 26/48\n",
      "24/24 [==============================] - 0s 1ms/step - loss: 0.0202 - accuracy: 1.0000\n",
      "Epoch 27/48\n",
      "24/24 [==============================] - 0s 1ms/step - loss: 0.0189 - accuracy: 1.0000\n",
      "Epoch 28/48\n",
      "24/24 [==============================] - 0s 1ms/step - loss: 0.0170 - accuracy: 1.0000\n",
      "Epoch 29/48\n",
      "24/24 [==============================] - 0s 1ms/step - loss: 0.0164 - accuracy: 1.0000\n",
      "Epoch 30/48\n",
      "24/24 [==============================] - 0s 1ms/step - loss: 0.0148 - accuracy: 1.0000\n",
      "Epoch 31/48\n",
      "24/24 [==============================] - 0s 1ms/step - loss: 0.0138 - accuracy: 1.0000\n",
      "Epoch 32/48\n",
      "24/24 [==============================] - 0s 1ms/step - loss: 0.0137 - accuracy: 1.0000\n",
      "Epoch 33/48\n",
      "24/24 [==============================] - 0s 1ms/step - loss: 0.0134 - accuracy: 1.0000\n",
      "Epoch 34/48\n",
      "24/24 [==============================] - 0s 1ms/step - loss: 0.0118 - accuracy: 1.0000\n",
      "Epoch 35/48\n",
      "24/24 [==============================] - 0s 1ms/step - loss: 0.0119 - accuracy: 1.0000\n",
      "Epoch 36/48\n",
      "24/24 [==============================] - 0s 1ms/step - loss: 0.0105 - accuracy: 1.0000\n",
      "Epoch 37/48\n",
      "24/24 [==============================] - 0s 1ms/step - loss: 0.0088 - accuracy: 1.0000\n",
      "Epoch 38/48\n",
      "24/24 [==============================] - 0s 1ms/step - loss: 0.0092 - accuracy: 1.0000\n",
      "Epoch 39/48\n",
      "24/24 [==============================] - 0s 1ms/step - loss: 0.0080 - accuracy: 1.0000\n",
      "Epoch 40/48\n",
      "24/24 [==============================] - 0s 1ms/step - loss: 0.0083 - accuracy: 1.0000\n",
      "Epoch 41/48\n",
      "24/24 [==============================] - 0s 1ms/step - loss: 0.0083 - accuracy: 1.0000\n",
      "Epoch 42/48\n",
      "24/24 [==============================] - 0s 1ms/step - loss: 0.0084 - accuracy: 1.0000\n",
      "Epoch 43/48\n",
      "24/24 [==============================] - 0s 1ms/step - loss: 0.0153 - accuracy: 0.9929\n",
      "Epoch 44/48\n",
      "24/24 [==============================] - 0s 1ms/step - loss: 0.0059 - accuracy: 1.0000\n",
      "Epoch 45/48\n",
      "24/24 [==============================] - 0s 1ms/step - loss: 0.0055 - accuracy: 1.0000\n",
      "Epoch 46/48\n",
      "24/24 [==============================] - 0s 1ms/step - loss: 0.0055 - accuracy: 1.0000\n",
      "Epoch 47/48\n",
      "24/24 [==============================] - 0s 1ms/step - loss: 0.0050 - accuracy: 1.0000\n",
      "Epoch 48/48\n",
      "24/24 [==============================] - 0s 1ms/step - loss: 0.0047 - accuracy: 1.0000\n"
     ]
    },
    {
     "data": {
      "text/plain": [
       "<keras.callbacks.History at 0x12f6ca780d0>"
      ]
     },
     "execution_count": 19,
     "metadata": {},
     "output_type": "execute_result"
    }
   ],
   "source": [
    "model.fit(X_train,Y_train,epochs=48,batch_size=6)"
   ]
  },
  {
   "cell_type": "markdown",
   "id": "1e06ae4b",
   "metadata": {
    "papermill": {
     "duration": 0.021012,
     "end_time": "2023-04-17T02:56:11.295614",
     "exception": false,
     "start_time": "2023-04-17T02:56:11.274602",
     "status": "completed"
    },
    "tags": []
   },
   "source": [
    "#### **evaluate the model on the test set**"
   ]
  },
  {
   "cell_type": "code",
   "execution_count": 20,
   "id": "0e8444be",
   "metadata": {
    "execution": {
     "iopub.execute_input": "2023-04-17T02:56:11.339884Z",
     "iopub.status.busy": "2023-04-17T02:56:11.339284Z",
     "iopub.status.idle": "2023-04-17T02:56:11.566660Z",
     "shell.execute_reply": "2023-04-17T02:56:11.565312Z"
    },
    "papermill": {
     "duration": 0.252175,
     "end_time": "2023-04-17T02:56:11.569120",
     "exception": false,
     "start_time": "2023-04-17T02:56:11.316945",
     "status": "completed"
    },
    "tags": []
   },
   "outputs": [
    {
     "name": "stdout",
     "output_type": "stream",
     "text": [
      "2/2 [==============================] - 0s 5ms/step - loss: 0.3741 - accuracy: 0.8833\n",
      "Test accuracy: 88.33333253860474\n"
     ]
    }
   ],
   "source": [
    "test_loss, test_acc = model.evaluate(X_test, Y_test)\n",
    "print('Test accuracy:', test_acc * 100)"
   ]
  }
 ],
 "metadata": {
  "kernelspec": {
   "display_name": "Python 3 (ipykernel)",
   "language": "python",
   "name": "python3"
  },
  "language_info": {
   "codemirror_mode": {
    "name": "ipython",
    "version": 3
   },
   "file_extension": ".py",
   "mimetype": "text/x-python",
   "name": "python",
   "nbconvert_exporter": "python",
   "pygments_lexer": "ipython3",
   "version": "3.11.0"
  },
  "papermill": {
   "default_parameters": {},
   "duration": 50.849474,
   "end_time": "2023-04-17T02:56:14.842611",
   "environment_variables": {},
   "exception": null,
   "input_path": "__notebook__.ipynb",
   "output_path": "__notebook__.ipynb",
   "parameters": {},
   "start_time": "2023-04-17T02:55:23.993137",
   "version": "2.4.0"
  }
 },
 "nbformat": 4,
 "nbformat_minor": 5
}
