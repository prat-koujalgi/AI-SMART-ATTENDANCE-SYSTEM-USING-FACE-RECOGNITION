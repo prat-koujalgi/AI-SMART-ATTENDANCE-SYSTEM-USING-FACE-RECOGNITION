{
 "cells": [
  {
   "cell_type": "code",
   "execution_count": 2,
   "metadata": {
    "id": "8JQBxETPbV4e"
   },
   "outputs": [],
   "source": [
    "import pandas as pd\n",
    "import numpy as np"
   ]
  },
  {
   "cell_type": "code",
   "execution_count": 3,
   "metadata": {
    "colab": {
     "base_uri": "https://localhost:8080/",
     "height": 173
    },
    "id": "2rql5Ar3bzKZ",
    "outputId": "05a88418-7200-4e58-cd07-2a92279175c3"
   },
   "outputs": [
    {
     "data": {
      "text/html": [
       "<div>\n",
       "<style scoped>\n",
       "    .dataframe tbody tr th:only-of-type {\n",
       "        vertical-align: middle;\n",
       "    }\n",
       "\n",
       "    .dataframe tbody tr th {\n",
       "        vertical-align: top;\n",
       "    }\n",
       "\n",
       "    .dataframe thead th {\n",
       "        text-align: right;\n",
       "    }\n",
       "</style>\n",
       "<table border=\"1\" class=\"dataframe\">\n",
       "  <thead>\n",
       "    <tr style=\"text-align: right;\">\n",
       "      <th></th>\n",
       "      <th>0</th>\n",
       "      <th>1</th>\n",
       "      <th>2</th>\n",
       "      <th>3</th>\n",
       "    </tr>\n",
       "  </thead>\n",
       "  <tbody>\n",
       "    <tr>\n",
       "      <th>0</th>\n",
       "      <td>0.112052</td>\n",
       "      <td>0.381487</td>\n",
       "      <td>0.974423</td>\n",
       "      <td>0.074125</td>\n",
       "    </tr>\n",
       "    <tr>\n",
       "      <th>1</th>\n",
       "      <td>0.474174</td>\n",
       "      <td>0.236148</td>\n",
       "      <td>0.286967</td>\n",
       "      <td>0.868500</td>\n",
       "    </tr>\n",
       "    <tr>\n",
       "      <th>2</th>\n",
       "      <td>0.109115</td>\n",
       "      <td>0.562084</td>\n",
       "      <td>0.364447</td>\n",
       "      <td>0.229007</td>\n",
       "    </tr>\n",
       "    <tr>\n",
       "      <th>3</th>\n",
       "      <td>0.436546</td>\n",
       "      <td>0.253782</td>\n",
       "      <td>0.691631</td>\n",
       "      <td>0.323658</td>\n",
       "    </tr>\n",
       "  </tbody>\n",
       "</table>\n",
       "</div>"
      ],
      "text/plain": [
       "          0         1         2         3\n",
       "0  0.112052  0.381487  0.974423  0.074125\n",
       "1  0.474174  0.236148  0.286967  0.868500\n",
       "2  0.109115  0.562084  0.364447  0.229007\n",
       "3  0.436546  0.253782  0.691631  0.323658"
      ]
     },
     "execution_count": 3,
     "metadata": {},
     "output_type": "execute_result"
    }
   ],
   "source": [
    "#Create a dataframe with 4 features and 4 observation\n",
    "s1= pd.Series(np.random.rand(4))\n",
    "s2= pd.Series(np.random.rand(4))\n",
    "s3= pd.Series(np.random.rand(4))\n",
    "s4= pd.Series(np.random.rand(4))\n",
    "df=pd.DataFrame([s1,s2,s3,s4])\n",
    "df"
   ]
  },
  {
   "cell_type": "code",
   "execution_count": 4,
   "metadata": {
    "colab": {
     "base_uri": "https://localhost:8080/",
     "height": 173
    },
    "id": "PVqN2HyYcNdl",
    "outputId": "b570d5e4-c960-4c98-9319-071ee8d12548"
   },
   "outputs": [
    {
     "data": {
      "text/html": [
       "<div>\n",
       "<style scoped>\n",
       "    .dataframe tbody tr th:only-of-type {\n",
       "        vertical-align: middle;\n",
       "    }\n",
       "\n",
       "    .dataframe tbody tr th {\n",
       "        vertical-align: top;\n",
       "    }\n",
       "\n",
       "    .dataframe thead th {\n",
       "        text-align: right;\n",
       "    }\n",
       "</style>\n",
       "<table border=\"1\" class=\"dataframe\">\n",
       "  <thead>\n",
       "    <tr style=\"text-align: right;\">\n",
       "      <th></th>\n",
       "      <th>Random value 1</th>\n",
       "      <th>Random value 2</th>\n",
       "      <th>Random value 3</th>\n",
       "      <th>Random value 4</th>\n",
       "    </tr>\n",
       "  </thead>\n",
       "  <tbody>\n",
       "    <tr>\n",
       "      <th>0</th>\n",
       "      <td>0.112052</td>\n",
       "      <td>0.381487</td>\n",
       "      <td>0.974423</td>\n",
       "      <td>0.074125</td>\n",
       "    </tr>\n",
       "    <tr>\n",
       "      <th>1</th>\n",
       "      <td>0.474174</td>\n",
       "      <td>0.236148</td>\n",
       "      <td>0.286967</td>\n",
       "      <td>0.868500</td>\n",
       "    </tr>\n",
       "    <tr>\n",
       "      <th>2</th>\n",
       "      <td>0.109115</td>\n",
       "      <td>0.562084</td>\n",
       "      <td>0.364447</td>\n",
       "      <td>0.229007</td>\n",
       "    </tr>\n",
       "    <tr>\n",
       "      <th>3</th>\n",
       "      <td>0.436546</td>\n",
       "      <td>0.253782</td>\n",
       "      <td>0.691631</td>\n",
       "      <td>0.323658</td>\n",
       "    </tr>\n",
       "  </tbody>\n",
       "</table>\n",
       "</div>"
      ],
      "text/plain": [
       "   Random value 1  Random value 2  Random value 3  Random value 4\n",
       "0        0.112052        0.381487        0.974423        0.074125\n",
       "1        0.474174        0.236148        0.286967        0.868500\n",
       "2        0.109115        0.562084        0.364447        0.229007\n",
       "3        0.436546        0.253782        0.691631        0.323658"
      ]
     },
     "execution_count": 4,
     "metadata": {},
     "output_type": "execute_result"
    }
   ],
   "source": [
    "#Change column names\n",
    "df.columns = ['Random value 1', 'Random value 2', 'Random value 3', 'Random value 4']\n",
    "df"
   ]
  },
  {
   "cell_type": "code",
   "execution_count": 5,
   "metadata": {
    "colab": {
     "base_uri": "https://localhost:8080/",
     "height": 297
    },
    "id": "G_roGIpacNhw",
    "outputId": "357e6d68-e303-4aa1-d1c4-ea152d67f11a"
   },
   "outputs": [
    {
     "data": {
      "text/html": [
       "<div>\n",
       "<style scoped>\n",
       "    .dataframe tbody tr th:only-of-type {\n",
       "        vertical-align: middle;\n",
       "    }\n",
       "\n",
       "    .dataframe tbody tr th {\n",
       "        vertical-align: top;\n",
       "    }\n",
       "\n",
       "    .dataframe thead th {\n",
       "        text-align: right;\n",
       "    }\n",
       "</style>\n",
       "<table border=\"1\" class=\"dataframe\">\n",
       "  <thead>\n",
       "    <tr style=\"text-align: right;\">\n",
       "      <th></th>\n",
       "      <th>Random value 1</th>\n",
       "      <th>Random value 2</th>\n",
       "      <th>Random value 3</th>\n",
       "      <th>Random value 4</th>\n",
       "    </tr>\n",
       "  </thead>\n",
       "  <tbody>\n",
       "    <tr>\n",
       "      <th>count</th>\n",
       "      <td>4.000000</td>\n",
       "      <td>4.000000</td>\n",
       "      <td>4.000000</td>\n",
       "      <td>4.000000</td>\n",
       "    </tr>\n",
       "    <tr>\n",
       "      <th>mean</th>\n",
       "      <td>0.282972</td>\n",
       "      <td>0.358375</td>\n",
       "      <td>0.579367</td>\n",
       "      <td>0.373822</td>\n",
       "    </tr>\n",
       "    <tr>\n",
       "      <th>std</th>\n",
       "      <td>0.199652</td>\n",
       "      <td>0.150456</td>\n",
       "      <td>0.316418</td>\n",
       "      <td>0.345453</td>\n",
       "    </tr>\n",
       "    <tr>\n",
       "      <th>min</th>\n",
       "      <td>0.109115</td>\n",
       "      <td>0.236148</td>\n",
       "      <td>0.286967</td>\n",
       "      <td>0.074125</td>\n",
       "    </tr>\n",
       "    <tr>\n",
       "      <th>25%</th>\n",
       "      <td>0.111318</td>\n",
       "      <td>0.249374</td>\n",
       "      <td>0.345077</td>\n",
       "      <td>0.190287</td>\n",
       "    </tr>\n",
       "    <tr>\n",
       "      <th>50%</th>\n",
       "      <td>0.274299</td>\n",
       "      <td>0.317634</td>\n",
       "      <td>0.528039</td>\n",
       "      <td>0.276332</td>\n",
       "    </tr>\n",
       "    <tr>\n",
       "      <th>75%</th>\n",
       "      <td>0.445953</td>\n",
       "      <td>0.426636</td>\n",
       "      <td>0.762329</td>\n",
       "      <td>0.459868</td>\n",
       "    </tr>\n",
       "    <tr>\n",
       "      <th>max</th>\n",
       "      <td>0.474174</td>\n",
       "      <td>0.562084</td>\n",
       "      <td>0.974423</td>\n",
       "      <td>0.868500</td>\n",
       "    </tr>\n",
       "  </tbody>\n",
       "</table>\n",
       "</div>"
      ],
      "text/plain": [
       "       Random value 1  Random value 2  Random value 3  Random value 4\n",
       "count        4.000000        4.000000        4.000000        4.000000\n",
       "mean         0.282972        0.358375        0.579367        0.373822\n",
       "std          0.199652        0.150456        0.316418        0.345453\n",
       "min          0.109115        0.236148        0.286967        0.074125\n",
       "25%          0.111318        0.249374        0.345077        0.190287\n",
       "50%          0.274299        0.317634        0.528039        0.276332\n",
       "75%          0.445953        0.426636        0.762329        0.459868\n",
       "max          0.474174        0.562084        0.974423        0.868500"
      ]
     },
     "execution_count": 5,
     "metadata": {},
     "output_type": "execute_result"
    }
   ],
   "source": [
    "#Descriptive statistics\n",
    "df.describe()"
   ]
  },
  {
   "cell_type": "code",
   "execution_count": 6,
   "metadata": {
    "colab": {
     "base_uri": "https://localhost:8080/"
    },
    "id": "_OQwA0xWcNnv",
    "outputId": "6d5fef46-7d4c-471d-e1ac-4ba9ad38be4a"
   },
   "outputs": [
    {
     "data": {
      "text/plain": [
       "Random value 1    0\n",
       "Random value 2    0\n",
       "Random value 3    0\n",
       "Random value 4    0\n",
       "dtype: int64"
      ]
     },
     "execution_count": 6,
     "metadata": {},
     "output_type": "execute_result"
    }
   ],
   "source": [
    "#Check for the null values\n",
    "df.isnull().sum()"
   ]
  },
  {
   "cell_type": "code",
   "execution_count": 7,
   "metadata": {
    "colab": {
     "base_uri": "https://localhost:8080/"
    },
    "id": "ndlu4T2veifN",
    "outputId": "3b9d5573-f7c0-416d-f196-8640dfaa1338"
   },
   "outputs": [
    {
     "name": "stdout",
     "output_type": "stream",
     "text": [
      "float64\n",
      "float64\n",
      "float64\n",
      "float64\n"
     ]
    }
   ],
   "source": [
    "#Data type of the columns\n",
    "print(df['Random value 1'].dtype)\n",
    "print(df['Random value 2'].dtype)\n",
    "print(df['Random value 3'].dtype)\n",
    "print(df['Random value 4'].dtype)"
   ]
  },
  {
   "cell_type": "code",
   "execution_count": 8,
   "metadata": {
    "colab": {
     "base_uri": "https://localhost:8080/"
    },
    "id": "OhJQUMp5jZxk",
    "outputId": "76c3af57-28b5-4de9-dc7d-256c52e56f0c"
   },
   "outputs": [
    {
     "name": "stdout",
     "output_type": "stream",
     "text": [
      "   Random value 2  Random value 3\n",
      "0        0.381487        0.974423\n",
      "1        0.236148        0.286967\n",
      "2        0.562084        0.364447\n",
      "3        0.253782        0.691631\n"
     ]
    }
   ],
   "source": [
    "#Display 'Random value 2' & 'Random value 3' columns with location method\n",
    "loc = df.loc[:, ['Random value 2', 'Random value 3']]\n",
    "print(loc)"
   ]
  },
  {
   "cell_type": "code",
   "execution_count": 9,
   "metadata": {
    "colab": {
     "base_uri": "https://localhost:8080/"
    },
    "id": "iSmGFPIijZuM",
    "outputId": "0f6dce9c-c8c5-4fa1-93c6-11a3f2699f55"
   },
   "outputs": [
    {
     "name": "stdout",
     "output_type": "stream",
     "text": [
      "   Random value 2  Random value 3\n",
      "0        0.381487        0.974423\n",
      "1        0.236148        0.286967\n",
      "2        0.562084        0.364447\n",
      "3        0.253782        0.691631\n"
     ]
    }
   ],
   "source": [
    "#Display the 'Random value 2' & 'Random value 3' columns with index location method\n",
    "iloc = df.iloc[:, [1, 2]]\n",
    "print(iloc)"
   ]
  }
 ],
 "metadata": {
  "colab": {
   "provenance": []
  },
  "kernelspec": {
   "display_name": "Python 3",
   "language": "python",
   "name": "python3"
  },
  "language_info": {
   "codemirror_mode": {
    "name": "ipython",
    "version": 3
   },
   "file_extension": ".py",
   "mimetype": "text/x-python",
   "name": "python",
   "nbconvert_exporter": "python",
   "pygments_lexer": "ipython3",
   "version": "3.8.5"
  }
 },
 "nbformat": 4,
 "nbformat_minor": 1
}
